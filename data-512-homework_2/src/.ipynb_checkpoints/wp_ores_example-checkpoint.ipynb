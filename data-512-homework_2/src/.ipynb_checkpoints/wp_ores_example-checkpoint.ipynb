{
 "cells": [
  {
   "cell_type": "markdown",
   "metadata": {
    "tags": []
   },
   "source": [
    "# ORES API Example\n",
    "This example illustrates how to generate quality scores for article revisions using [ORES](https://www.mediawiki.org/wiki/ORES). This example shows how to request a score of a specific revision, where the score provides probabilities for all of the possible article quality levels. The API documentation can be access from the main [ORES](https://ores.wikimedia.org) page. However, this documentation is a little skimpy and if you want more information you may have to dig around.\n",
    "\n",
    "## License\n",
    "This code example was developed by Dr. David W. McDonald for use in DATA 512, a course in the UW MS Data Science degree program. This code is provided under the [Creative Commons](https://creativecommons.org) [CC-BY license](https://creativecommons.org/licenses/by/4.0/). Revision 1.0 - May 13, 2022\n",
    "\n"
   ]
  },
  {
   "cell_type": "code",
   "execution_count": 1,
   "metadata": {
    "tags": []
   },
   "outputs": [],
   "source": [
    "# \n",
    "# These are standard python modules\n",
    "import json, time, urllib.parse, os\n",
    "#\n",
    "# The 'requests' module is not a standard Python module. You will need to install this with pip/pip3 if you do not already have it\n",
    "import requests"
   ]
  },
  {
   "cell_type": "markdown",
   "metadata": {},
   "source": [
    "The example relies on some constants that help make the code a bit more readable."
   ]
  },
  {
   "cell_type": "code",
   "execution_count": 2,
   "metadata": {
    "tags": []
   },
   "outputs": [],
   "source": [
    "#########\n",
    "#\n",
    "#    CONSTANTS\n",
    "#\n",
    "\n",
    "# The current ORES API endpoint\n",
    "API_ORES_SCORE_ENDPOINT = \"https://ores.wikimedia.org/v3\"\n",
    "# A template for mapping to the URL\n",
    "API_ORES_SCORE_PARAMS = \"/scores/{context}/{revid}/{model}\"\n",
    "\n",
    "# Use some delays so that we do not hammer the API with our requests\n",
    "API_LATENCY_ASSUMED = 0.002       # Assuming roughly 2ms latency on the API and network\n",
    "API_THROTTLE_WAIT = (1.0/100.0)-API_LATENCY_ASSUMED\n",
    "\n",
    "# When making automated requests we should include something that is unique to the person making the request\n",
    "# This should include an email - your UW email would be good to put in there\n",
    "REQUEST_HEADERS = {\n",
    "    'User-Agent': '<amb7896@uw.edu>, University of Washington, MSDS DATA 512 - AUTUMN 2022'\n",
    "}\n",
    "\n",
    "# A dictionary of English Wikipedia article titles (keys) and sample revision IDs that can be used for this ORES scoring example\n",
    "with open(os.path.join(\"..\",\"data\",\"latest_revision_id.json\"), \"r\") as infile:\n",
    "    ARTICLE_REVISIONS = json.load(infile)\n",
    "\n",
    "# ARTICLE_REVISIONS = { 'Bison':1085687913 , 'Northern flicker':1086582504 , 'Red squirrel':1083787665 , 'Chinook salmon':1085406228 , 'Horseshoe bat':1060601936 }\n",
    "\n",
    "# This template lists the basic parameters for making an ORES request\n",
    "ORES_PARAMS_TEMPLATE = {\n",
    "    \"context\": \"enwiki\",        # which WMF project for the specified revid\n",
    "    \"revid\" : \"\",               # the revision to be scored - this will probably change each call\n",
    "    \"model\": \"articlequality\"   # the AI/ML scoring model to apply to the reviewion\n",
    "}\n",
    "#\n",
    "# The current ML models for English wikipedia are:\n",
    "#   \"articlequality\"\n",
    "#   \"articletopic\"\n",
    "#   \"damaging\"\n",
    "#   \"version\"\n",
    "#   \"draftquality\"\n",
    "#   \"drafttopic\"\n",
    "#   \"goodfaith\"\n",
    "#   \"wp10\"\n",
    "#\n",
    "# The specific documentation on these is scattered so if you want to use one you'll have to look around.\n",
    "#"
   ]
  },
  {
   "cell_type": "markdown",
   "metadata": {},
   "source": [
    "The API request will be made using one procedure. The idea is to make this reusable. The procedure is parameterized, but relies on the constants above for the important parameters. The underlying assumption is that this will be used to request data for a set of article revisions. Therefore, the main parameter is article_revid."
   ]
  },
  {
   "cell_type": "code",
   "execution_count": 3,
   "metadata": {},
   "outputs": [],
   "source": [
    "#########\n",
    "#\n",
    "#    PROCEDURES/FUNCTIONS\n",
    "#\n",
    "\n",
    "def request_ores_score_per_article(article_revid = None, \n",
    "                                   endpoint_url = API_ORES_SCORE_ENDPOINT, \n",
    "                                   endpoint_params = API_ORES_SCORE_PARAMS, \n",
    "                                   request_template = ORES_PARAMS_TEMPLATE,\n",
    "                                   headers = REQUEST_HEADERS,\n",
    "                                   features=False):\n",
    "    # Make sure we have an article revision id\n",
    "    if not article_revid: return None\n",
    "    \n",
    "    # set the revision id into the template\n",
    "    request_template['revid'] = article_revid\n",
    "    \n",
    "    # now, create a request URL by combining the endpoint_url with the parameters for the request\n",
    "    request_url = endpoint_url+endpoint_params.format(**request_template)\n",
    "    \n",
    "    # the features used by the ML model can sometimes be returned as well as scores\n",
    "    if features:\n",
    "        request_url = request_url+\"?features=true\"\n",
    "    \n",
    "    # make the request\n",
    "    try:\n",
    "        # we'll wait first, to make sure we don't exceed the limit in the situation where an exception\n",
    "        # occurs during the request processing - throttling is always a good practice with a free\n",
    "        # data source like ORES - or other community sources\n",
    "        if API_THROTTLE_WAIT > 0.0:\n",
    "            time.sleep(API_THROTTLE_WAIT)\n",
    "        response = requests.get(request_url, headers=headers)\n",
    "        json_response = response.json()\n",
    "    except Exception as e:\n",
    "        print(e)\n",
    "        json_response = None\n",
    "    return json_response\n"
   ]
  },
  {
   "cell_type": "code",
   "execution_count": null,
   "metadata": {},
   "outputs": [
    {
     "name": "stdout",
     "output_type": "stream",
     "text": [
      "{'1099689043': {'articlequality': {'score': {'prediction': 'GA', 'probability': {'B': 0.15912710013204634, 'C': 0.3317754589473183, 'FA': 0.029544640342677096, 'GA': 0.43829652594886387, 'Start': 0.034888134844429625, 'Stub': 0.006368139784664634}}}}}\n",
      "1099689043\n",
      "{'943562276': {'articlequality': {'score': {'prediction': 'Start', 'probability': {'B': 0.07072934643314852, 'C': 0.1558800154966825, 'FA': 0.004030673144978522, 'GA': 0.024921780108641316, 'Start': 0.6869179863051769, 'Stub': 0.05752019851137227}}}}}\n",
      "943562276\n",
      "{'852404094': {'articlequality': {'score': {'prediction': 'Start', 'probability': {'B': 0.10924947902728685, 'C': 0.25115512752704433, 'FA': 0.006312965598375105, 'GA': 0.017314064629803255, 'Start': 0.5549263160838714, 'Stub': 0.061042047133619}}}}}\n",
      "852404094\n",
      "{'1095102390': {'articlequality': {'score': {'prediction': 'B', 'probability': {'B': 0.4372459668390514, 'C': 0.3493904536064202, 'FA': 0.07082287019416104, 'GA': 0.0843623043187118, 'Start': 0.053023133532044874, 'Stub': 0.005155271509610824}}}}}\n",
      "1095102390\n",
      "{'1104998382': {'articlequality': {'score': {'prediction': 'Start', 'probability': {'B': 0.08162876173098238, 'C': 0.2463670066070844, 'FA': 0.005566898114337135, 'GA': 0.018451015385075382, 'Start': 0.597924570506648, 'Stub': 0.050061747655872554}}}}}\n",
      "1104998382\n",
      "{'1109361754': {'articlequality': {'score': {'prediction': 'Start', 'probability': {'B': 0.05364884405948932, 'C': 0.13846302416389905, 'FA': 0.005397085890032411, 'GA': 0.013036657139335977, 'Start': 0.5950688917536112, 'Stub': 0.19438549699363203}}}}}\n",
      "1109361754\n",
      "{'1087211008': {'articlequality': {'score': {'prediction': 'Start', 'probability': {'B': 0.044605184972074316, 'C': 0.09432758129668908, 'FA': 0.004567933145289634, 'GA': 0.018574221809477067, 'Start': 0.6878780046062692, 'Stub': 0.15004707417020058}}}}}\n",
      "1087211008\n",
      "{'1082489593': {'articlequality': {'score': {'prediction': 'Start', 'probability': {'B': 0.048069566834345025, 'C': 0.13999030166768367, 'FA': 0.004291631789577798, 'GA': 0.0161539533863841, 'Start': 0.7370816285828834, 'Stub': 0.05441291773912604}}}}}\n",
      "1082489593\n",
      "{'1038918070': {'articlequality': {'score': {'prediction': 'Start', 'probability': {'B': 0.06715520305413866, 'C': 0.3042686926269415, 'FA': 0.0061228301001578925, 'GA': 0.015611183313679508, 'Start': 0.5748880583707174, 'Stub': 0.03195403253436519}}}}}\n",
      "1038918070\n",
      "{'1069322182': {'articlequality': {'score': {'prediction': 'Start', 'probability': {'B': 0.11383136937420064, 'C': 0.1013761959624893, 'FA': 0.004623660071546491, 'GA': 0.01962828296675684, 'Start': 0.5416807025717034, 'Stub': 0.2188597890533034}}}}}\n",
      "1069322182\n",
      "{'1095526840': {'articlequality': {'score': {'prediction': 'Start', 'probability': {'B': 0.19734667968709535, 'C': 0.37197094577036344, 'FA': 0.006471438362836147, 'GA': 0.03808059423678358, 'Start': 0.3783020155149336, 'Stub': 0.007828326427987732}}}}}\n",
      "1095526840\n",
      "{'1013838830': {'articlequality': {'score': {'prediction': 'Stub', 'probability': {'B': 0.017602679257176707, 'C': 0.03741549736464354, 'FA': 0.00349656390489947, 'GA': 0.008839274681301947, 'Start': 0.24961539813724162, 'Stub': 0.6830305866547366}}}}}\n",
      "1013838830\n",
      "{'1112407669': {'articlequality': {'score': {'prediction': 'Start', 'probability': {'B': 0.052599828816476346, 'C': 0.3905512262305917, 'FA': 0.003522292240656525, 'GA': 0.0075517705703385535, 'Start': 0.5328802022119873, 'Stub': 0.012894679929949561}}}}}\n",
      "1112407669\n"
     ]
    }
   ],
   "source": [
    "all_articles = ARTICLE_REVISIONS.keys()\n",
    "ores_retrieval_failed_articles = []\n",
    "article_ores_predictions = []\n",
    "\n",
    "for ARTICLE in ARTICLE_REVISIONS:\n",
    "    try:\n",
    "        score = request_ores_score_per_article(ARTICLE_REVISIONS[ARTICLE])\n",
    "        print(score[\"enwiki\"][\"scores\"])\n",
    "        # [ARTICLE_REVISIONS[ARTICLE]][\"articlequality\"][\"score\"][\"prediction\"]\n",
    "        article_prediction = score[\"enwiki\"][\"scores\"][ARTICLE_REVISIONS[ARTICLE]][\"articlequality\"][\"score\"][\"prediction\"]\n",
    "        article_ores_predictions.append(article_prediction)\n",
    "    except Exception as e:\n",
    "        print(e)\n",
    "        ores_retrieval_failed_articles.append(ARTICLE)\n",
    "print(\"Getting ORES scores for '%s' with revid: %d\"%(ARTICLE,ARTICLE_REVISIONS[ARTICLE]))\n",
    "score = request_ores_score_per_article(ARTICLE_REVISIONS[ARTICLE])\n",
    "print(json.dumps(score,indent=4))"
   ]
  },
  {
   "cell_type": "code",
   "execution_count": 5,
   "metadata": {},
   "outputs": [
    {
     "name": "stdout",
     "output_type": "stream",
     "text": [
      "Getting ORES scores for 'Red squirrel' with revid: 1083787665\n",
      "{\n",
      "    \"1083787665\": {\n",
      "        \"articlequality\": {\n",
      "            \"score\": {\n",
      "                \"prediction\": \"C\",\n",
      "                \"probability\": {\n",
      "                    \"B\": 0.3438908635045126,\n",
      "                    \"C\": 0.5511452526996617,\n",
      "                    \"FA\": 0.0360496066555655,\n",
      "                    \"GA\": 0.056484346855134204,\n",
      "                    \"Start\": 0.009081450706888131,\n",
      "                    \"Stub\": 0.0033484795782379364\n",
      "                }\n",
      "            }\n",
      "        }\n",
      "    }\n",
      "}\n"
     ]
    }
   ],
   "source": [
    "ARTICLE = \"Red squirrel\"\n",
    "print(\"Getting ORES scores for '%s' with revid: %d\"%(ARTICLE,ARTICLE_REVISIONS[ARTICLE]))\n",
    "score = request_ores_score_per_article(ARTICLE_REVISIONS[ARTICLE])\n",
    "print(json.dumps(score['enwiki']['scores'],indent=4))"
   ]
  },
  {
   "cell_type": "markdown",
   "metadata": {},
   "source": []
  }
 ],
 "metadata": {
  "kernelspec": {
   "display_name": "Python 3.8 (XPython)",
   "language": "python",
   "name": "xpython"
  },
  "language_info": {
   "file_extension": ".py",
   "mimetype": "text/x-python",
   "name": "python",
   "version": "3.8.13"
  }
 },
 "nbformat": 4,
 "nbformat_minor": 4
}
